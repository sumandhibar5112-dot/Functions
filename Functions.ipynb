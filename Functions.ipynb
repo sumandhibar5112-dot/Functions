{
  "cells": [
    {
      "cell_type": "markdown",
      "source": [
        "1.What is the difference between a function and a method in Python?\n",
        "\n",
        "A function is a block of reusable code that is defined independently (i.e., not bound to a class or object). It can be called on its own.\n",
        "example:"
      ],
      "metadata": {
        "id": "C7ZAggvuyG4L"
      }
    },
    {
      "cell_type": "code",
      "source": [
        "def greet(name):\n",
        "    return f\"Hello, {name}!\"\n",
        "\n",
        "print(greet(\"Suman\"))"
      ],
      "metadata": {
        "colab": {
          "base_uri": "https://localhost:8080/"
        },
        "id": "Y28ZXKGdyTTn",
        "outputId": "18376f00-151d-45f8-f039-5fbf6a83b834"
      },
      "execution_count": 2,
      "outputs": [
        {
          "output_type": "stream",
          "name": "stdout",
          "text": [
            "Hello, Suman!\n"
          ]
        }
      ]
    },
    {
      "cell_type": "markdown",
      "source": [
        "2. Explain the concept of function arguments and parameters in Python?\n",
        "\n",
        "In Python, parameters and arguments are related concepts in functions, but they refer to different roles:\n",
        "Parameter\tThe variable name listed in the function definition.\n",
        "Argument\tThe actual value passed to the function when it is called.\n",
        "\n",
        "example:"
      ],
      "metadata": {
        "id": "2NvaL0yZyX_W"
      }
    },
    {
      "cell_type": "code",
      "source": [
        "def greet(name):\n",
        "    print(f\"Hello, {name}!\")\n",
        "\n",
        "greet(\"Suman\")"
      ],
      "metadata": {
        "colab": {
          "base_uri": "https://localhost:8080/"
        },
        "id": "h1FE0tjhy02L",
        "outputId": "8b657516-e1a6-4335-de7f-f6ec54c9e5ed"
      },
      "execution_count": 3,
      "outputs": [
        {
          "output_type": "stream",
          "name": "stdout",
          "text": [
            "Hello, Suman!\n"
          ]
        }
      ]
    },
    {
      "cell_type": "markdown",
      "source": [
        "3. What are the different ways to define and call a function in Python?\n",
        "\n",
        "\n",
        "Standard Function\tDefined using the def keyword followed by a function name and parameters.\n",
        "\n",
        "Function with Default Parameters\tParameters are given default values in the function definition.\n",
        "\n",
        "Function with *args\tAccepts any number of positional arguments; defined using *args.\n",
        "\n",
        "Lambda Function\tAn anonymous function defined using the lambda keyword.\n",
        "Nested Function\tA function defined inside another function.\n",
        "\n",
        "Class Method\tA function defined inside a class, using def, and typically using self.\n",
        "\n",
        "Static/Class Method\tDefined in a class using decorators @staticmethod or @classmethod.\n",
        "\n",
        "Example:\n",
        "\n"
      ],
      "metadata": {
        "id": "eduqaKOqz13V"
      }
    },
    {
      "cell_type": "code",
      "source": [
        "def greet(name):\n",
        "    return f\"Hello, {name}!\"\n",
        "    print(greet(\"pwskills\"))"
      ],
      "metadata": {
        "id": "eEumXP7Z0iAn"
      },
      "execution_count": 6,
      "outputs": []
    },
    {
      "cell_type": "markdown",
      "source": [
        "4.What is the purpose of the return statement in a Python function?\n",
        "\n",
        "It ends the function and sends a value back to the code that called the function.\n",
        "\n",
        "example:"
      ],
      "metadata": {
        "id": "7ZvPYI0M0vek"
      }
    },
    {
      "cell_type": "code",
      "source": [
        "def add(a, b):\n",
        "    return a + b\n",
        "\n",
        "result = add(3, 4)\n",
        "print(result)"
      ],
      "metadata": {
        "colab": {
          "base_uri": "https://localhost:8080/"
        },
        "id": "UurzvtMr048u",
        "outputId": "a36c4d33-9c4c-42e0-a40f-72ab48b1ed44"
      },
      "execution_count": 7,
      "outputs": [
        {
          "output_type": "stream",
          "name": "stdout",
          "text": [
            "7\n"
          ]
        }
      ]
    },
    {
      "cell_type": "markdown",
      "source": [
        "5. What are iterators in Python and how do they differ from iterables?\n",
        "\n",
        "In Python, iterables and iterators are fundamental concepts used for looping (e.g. in for loops). While they're closely related, they are not the same.\n",
        "Lists\n",
        "\n",
        "Tuples\n",
        "\n",
        "Strings\n",
        "\n",
        "Dictionaries\n",
        "\n",
        "Sets"
      ],
      "metadata": {
        "id": "XYuG8jo71AdW"
      }
    },
    {
      "cell_type": "markdown",
      "source": [
        "6.Explain the concept of generators in Python and how they are defined\n",
        "\n",
        "A generator in Python is a special type of iterator that is used to generate values on the fly, instead of storing them all in memory.\n",
        "\n",
        "Generators are defined like regular functions, but they use the yield keyword instead of return.\n",
        "\n",
        "exaple:"
      ],
      "metadata": {
        "id": "vSf_VkSSl2RC"
      }
    },
    {
      "cell_type": "code",
      "source": [
        "def count_up_to(n):\n",
        "    count = 1\n",
        "    while count <= n:\n",
        "        yield count\n",
        "        count += 1"
      ],
      "metadata": {
        "id": "BwH2QJaPmlni"
      },
      "execution_count": 1,
      "outputs": []
    },
    {
      "cell_type": "markdown",
      "source": [
        "7.What are the advantages of using generators over regular functions?\n",
        "\n",
        "Generators provide several benefits, especially when working with large datasets, streams, or performance-sensitive applications.\n",
        "\n",
        "Here are the main advantages:\n",
        "\n",
        "Generators do not store all values in memory at once. Instead, they generate values one at a time, only as needed.\n",
        "\n",
        "In contrast, regular functions (e.g., returning a list) create and hold the entire result in memory.\n",
        "\n",
        "exdample:\n",
        "\n"
      ],
      "metadata": {
        "id": "sGDGoNcnmocD"
      }
    },
    {
      "cell_type": "code",
      "source": [
        "def generate_numbers(n):\n",
        "    for i in range(n):\n",
        "        yield i\n",
        "\n",
        "\n",
        "def create_list(n):\n",
        "    return [i for i in range(n)]"
      ],
      "metadata": {
        "id": "xNW6dC_Em2Kt"
      },
      "execution_count": 3,
      "outputs": []
    },
    {
      "cell_type": "markdown",
      "source": [
        "8.What is a lambda function in Python and when is it typically used?\n",
        "\n",
        "A lambda function in Python is a small, anonymous function defined using the lambda keyword instead of def.\n",
        "\n",
        "It can take any number of arguments but has only one expression.\n",
        "\n",
        "The result of the expression is automatically returned.\n",
        "\n",
        "example:\n"
      ],
      "metadata": {
        "id": "x2TSCFtqm-sN"
      }
    },
    {
      "cell_type": "code",
      "source": [
        "square = lambda x: x * x\n",
        "print(square(5))"
      ],
      "metadata": {
        "colab": {
          "base_uri": "https://localhost:8080/"
        },
        "id": "YMinrlrvnKTx",
        "outputId": "f1d207da-8d5d-4d9d-95ad-e2b2b294ab46"
      },
      "execution_count": 4,
      "outputs": [
        {
          "output_type": "stream",
          "name": "stdout",
          "text": [
            "25\n"
          ]
        }
      ]
    },
    {
      "cell_type": "markdown",
      "source": [
        "9.Explain the purpose and usage of the `map()` function in Python.\n",
        "\n",
        "The map() function in Python is used to apply a function to every item in an iterable (like a list, tuple, etc.) and return a new iterator with the results.\n",
        "\n",
        "The main purpose of map() is to:\n",
        "\n",
        "Transform each element of an iterable using a function, without writing an explicit loop.\n",
        "\n",
        "example:\n"
      ],
      "metadata": {
        "id": "58htVQRLnN1p"
      }
    },
    {
      "cell_type": "code",
      "source": [
        "nums = [\"1\", \"2\", \"3\"]\n",
        "ints = list(map(int, nums))\n",
        "print(ints)"
      ],
      "metadata": {
        "colab": {
          "base_uri": "https://localhost:8080/"
        },
        "id": "9CFRdHoaoBFY",
        "outputId": "88db8e25-7bd5-4f36-a644-b6b41d605518"
      },
      "execution_count": 5,
      "outputs": [
        {
          "output_type": "stream",
          "name": "stdout",
          "text": [
            "[1, 2, 3]\n"
          ]
        }
      ]
    },
    {
      "cell_type": "markdown",
      "source": [
        "10. What is the difference between `map()`, `reduce()`, and `filter()` functions in Python?\n",
        "\n",
        "| Function   | Purpose                            | Returns      | Common Use                          |\n",
        "| ---------- | ---------------------------------- | ------------ | ----------------------------------- |\n",
        "| `map()`    | Transforms each item               | Iterator     | Apply function to each item         |\n",
        "| `filter()` | Filters items based on a condition | Iterator     | Keep items that meet a condition    |\n",
        "| `reduce()` | Reduces iterable to a single value | Single value | Cumulative operations like sum, max |\n",
        "\n",
        "example:\n"
      ],
      "metadata": {
        "id": "RHX_fSEbpEKh"
      }
    },
    {
      "cell_type": "markdown",
      "source": [],
      "metadata": {
        "id": "bQUViFO7uPiq"
      }
    },
    {
      "cell_type": "code",
      "source": [
        "nums = [1, 2, 3, 4]\n",
        "squared = list(map(lambda x: x ** 2, nums))\n",
        "print(squared)  # [1, 4, 9, 16]\n"
      ],
      "metadata": {
        "colab": {
          "base_uri": "https://localhost:8080/"
        },
        "id": "9dSTa6qBpW10",
        "outputId": "dcaef28a-77a9-4ccd-f949-4b105e4c3b47"
      },
      "execution_count": 6,
      "outputs": [
        {
          "output_type": "stream",
          "name": "stdout",
          "text": [
            "[1, 4, 9, 16]\n"
          ]
        }
      ]
    },
    {
      "cell_type": "markdown",
      "source": [
        "Using pen & Paper write the internal mechanism for sum operation using  reduce function on this given\n",
        "list:[47,11,42,13];"
      ],
      "metadata": {
        "id": "GWGseY3t1t_e"
      }
    },
    {
      "cell_type": "code",
      "source": [
        "#1. Write a Python function that takes a list of numbers as input and returns the sum of all even numbers in the list.\n",
        "def sum_of_even_numbers(numbers):\n",
        "  \"\"\"\n",
        "  This function takes a list of numbers and returns the sum of all even numbers.\n",
        "  \"\"\"\n",
        "  even_sum = 0\n",
        "  for number in numbers:\n",
        "    if number % 2 == 0:\n",
        "      even_sum += number\n",
        "  return even_sum\n",
        "\n",
        "\n",
        "my_list = [1, 2, 3, 4, 5, 6, 7, 8, 9, 10]\n",
        "result = sum_of_even_numbers(my_list)\n",
        "print(f\"The sum of even numbers in the list is: {result}\")\n"
      ],
      "metadata": {
        "colab": {
          "base_uri": "https://localhost:8080/"
        },
        "id": "_FxlR2vOpzf7",
        "outputId": "fd7e7856-8231-49ef-8e0a-2c0bc49bcf43"
      },
      "execution_count": 7,
      "outputs": [
        {
          "output_type": "stream",
          "name": "stdout",
          "text": [
            "The sum of even numbers in the list is: 30\n"
          ]
        }
      ]
    },
    {
      "cell_type": "code",
      "source": [
        "#2.Create a Python function that accepts a string and returns the reverse of that string.\n",
        "def reverse_string(input_string):\n",
        "  \"\"\"\n",
        "  This function takes a string and returns its reverse.\n",
        "  \"\"\"\n",
        "  return input_string[::-1]\n",
        "\n",
        "# Example usage\n",
        "my_string = \"Hello, Colab!\"\n",
        "reversed_string = reverse_string(my_string)\n",
        "print(f\"The original string is: {my_string}\")\n",
        "print(f\"The reversed string is: {reversed_string}\")\n"
      ],
      "metadata": {
        "colab": {
          "base_uri": "https://localhost:8080/"
        },
        "id": "ljSEnbSHqTQq",
        "outputId": "2c798d39-2dd9-464e-980f-10834aaaa959"
      },
      "execution_count": 8,
      "outputs": [
        {
          "output_type": "stream",
          "name": "stdout",
          "text": [
            "The original string is: Hello, Colab!\n",
            "The reversed string is: !baloC ,olleH\n"
          ]
        }
      ]
    },
    {
      "cell_type": "code",
      "source": [
        "#3. Implement a Python function that takes a list of integers and returns a new list containing the squares of each number.\n",
        "def square_numbers_in_list(numbers):\n",
        "  \"\"\"\n",
        "  This function takes a list of integers and returns a new list\n",
        "  containing the squares of each number.\n",
        "  \"\"\"\n",
        "  squared_list = []\n",
        "  for number in numbers:\n",
        "    squared_list.append(number**2)\n",
        "  return squared_list\n",
        "\n",
        "# Example usage\n",
        "my_list = [1, 2, 3, 4, 5]\n",
        "squared_numbers = square_numbers_in_list(my_list)\n",
        "print(f\"Original list: {my_list}\")\n",
        "print(f\"Squared list: {squared_numbers}\")"
      ],
      "metadata": {
        "colab": {
          "base_uri": "https://localhost:8080/"
        },
        "id": "4xvTUdLBqTga",
        "outputId": "daa0c12c-18ed-4ba7-c5e0-595131acb093"
      },
      "execution_count": 9,
      "outputs": [
        {
          "output_type": "stream",
          "name": "stdout",
          "text": [
            "Original list: [1, 2, 3, 4, 5]\n",
            "Squared list: [1, 4, 9, 16, 25]\n"
          ]
        }
      ]
    },
    {
      "cell_type": "code",
      "source": [
        "#4. Write a Python function that checks if a given number is prime or not from 1 to 200.\n",
        "def is_prime(number):\n",
        "  \"\"\"\n",
        "  Checks if a given number is prime.\n",
        "  \"\"\"\n",
        "  if number <= 1:\n",
        "    return False  # Numbers less than or equal to 1 are not prime\n",
        "  if number <= 3:\n",
        "    return True   # 2 and 3 are prime numbers\n",
        "  if number % 2 == 0 or number % 3 == 0:\n",
        "    return False  # Multiples of 2 or 3 are not prime\n",
        "\n",
        "  i = 5\n",
        "  while i * i <= number:\n",
        "    if number % i == 0 or number % (i + 2) == 0:\n",
        "      return False\n",
        "    i += 6\n",
        "\n",
        "  return True\n",
        "\n",
        "# Check prime numbers from 1 to 200\n",
        "print(\"Prime numbers between 1 and 200:\")\n",
        "for num in range(1, 201):\n",
        "  if is_prime(num):\n",
        "    print(num, end=\" \")"
      ],
      "metadata": {
        "colab": {
          "base_uri": "https://localhost:8080/"
        },
        "id": "huBlf4MDqTwG",
        "outputId": "5be9d0bc-857e-48d9-c005-37f70ec3bc1e"
      },
      "execution_count": 10,
      "outputs": [
        {
          "output_type": "stream",
          "name": "stdout",
          "text": [
            "Prime numbers between 1 and 200:\n",
            "2 3 5 7 11 13 17 19 23 29 31 37 41 43 47 53 59 61 67 71 73 79 83 89 97 101 103 107 109 113 127 131 137 139 149 151 157 163 167 173 179 181 191 193 197 199 "
          ]
        }
      ]
    },
    {
      "cell_type": "code",
      "source": [
        "#5.Create an iterator class in Python that generates the Fibonacci sequence up to a specified number of terms.\n",
        "class FibonacciIterator:\n",
        "    \"\"\"\n",
        "    An iterator class to generate the Fibonacci sequence up to a specified number of terms.\n",
        "    \"\"\"\n",
        "    def __init__(self, num_terms):\n",
        "        self.num_terms = num_terms\n",
        "        self.count = 0\n",
        "        self.a = 0\n",
        "        self.b = 1\n",
        "\n",
        "    def __iter__(self):\n",
        "        return self\n",
        "\n",
        "    def __next__(self):\n",
        "        if self.count < self.num_terms:\n",
        "            if self.count == 0:\n",
        "                self.count += 1\n",
        "                return self.a\n",
        "            elif self.count == 1:\n",
        "                self.count += 1\n",
        "                return self.b\n",
        "            else:\n",
        "                next_fib = self.a + self.b\n",
        "                self.a = self.b\n",
        "                self.b = next_fib\n",
        "                self.count += 1\n",
        "                return next_fib\n",
        "        else:\n",
        "            raise StopIteration\n",
        "\n",
        "# Example usage:\n",
        "fib_sequence = FibonacciIterator(10)\n",
        "print(\"Fibonacci sequence up to 10 terms:\")\n",
        "for number in fib_sequence:\n",
        "    print(number, end=\" \")\n"
      ],
      "metadata": {
        "colab": {
          "base_uri": "https://localhost:8080/"
        },
        "id": "muPMjBfEqT7B",
        "outputId": "fbc25194-b18a-4178-e4e7-475ddd349b75"
      },
      "execution_count": 11,
      "outputs": [
        {
          "output_type": "stream",
          "name": "stdout",
          "text": [
            "Fibonacci sequence up to 10 terms:\n",
            "0 1 1 2 3 5 8 13 21 34 "
          ]
        }
      ]
    },
    {
      "cell_type": "code",
      "source": [
        "#6. Write a generator function in Python that yields the powers of 2 up to a given exponent.\n",
        "def powers_of_2(exponent):\n",
        "  \"\"\"\n",
        "  A generator function that yields powers of 2 up to a given exponent.\n",
        "  \"\"\"\n",
        "  for i in range(exponent + 1):\n",
        "    yield 2**i\n",
        "\n",
        "# Example usage:\n",
        "for power in powers_of_2(5):\n",
        "  print(power)"
      ],
      "metadata": {
        "colab": {
          "base_uri": "https://localhost:8080/"
        },
        "id": "6Sk7cVoeqUHd",
        "outputId": "1dc2102b-b4c2-44ec-8930-dd4830a84436"
      },
      "execution_count": 12,
      "outputs": [
        {
          "output_type": "stream",
          "name": "stdout",
          "text": [
            "1\n",
            "2\n",
            "4\n",
            "8\n",
            "16\n",
            "32\n"
          ]
        }
      ]
    },
    {
      "cell_type": "code",
      "source": [
        "#7.Implement a generator function that reads a file line by line and yields each line as a string.\n",
        "\n",
        "\n",
        "with open(\"sample.txt\", \"w\") as f:\n",
        "    f.write(\"This is the first line.\\n\")\n",
        "    f.write(\"This is the second line.\\n\")\n",
        "    f.write(\"This is the third line.\")\n",
        "\n",
        "\n",
        "def read_file_line_by_line(filename):\n",
        "  \"\"\"\n",
        "  A generator function that reads a file line by line and yields each line.\n",
        "  \"\"\"\n",
        "  with open(filename, 'r') as f:\n",
        "    for line in f:\n",
        "      yield line.strip() # .strip() removes leading/trailing whitespace, including newline characters\n",
        "\n",
        "# Example usage:\n",
        "for line in read_file_line_by_line(\"sample.txt\"):\n",
        "  print(line)"
      ],
      "metadata": {
        "colab": {
          "base_uri": "https://localhost:8080/"
        },
        "id": "1NeTlJSCqUbj",
        "outputId": "83ac2016-97ed-47c8-93ab-fcb97f938915"
      },
      "execution_count": 15,
      "outputs": [
        {
          "output_type": "stream",
          "name": "stdout",
          "text": [
            "This is the first line.\n",
            "This is the second line.\n",
            "This is the third line.\n"
          ]
        }
      ]
    },
    {
      "cell_type": "code",
      "source": [
        "#8. Use a lambda function in Python to sort a list of tuples based on the second element of each tuple.\n",
        "\n",
        "\n",
        "my_list_of_tuples = [(1, 'c'), (3, 'a'), (2, 'b'), (4, 'd')]\n",
        "\n",
        "\n",
        "my_list_of_tuples.sort(key=lambda item: item[1])\n",
        "\n",
        "\n",
        "print(my_list_of_tuples)"
      ],
      "metadata": {
        "colab": {
          "base_uri": "https://localhost:8080/"
        },
        "id": "PT4woNOAqUhf",
        "outputId": "9ab86a28-0e05-41ab-d63b-19794bb30d3a"
      },
      "execution_count": 19,
      "outputs": [
        {
          "output_type": "stream",
          "name": "stdout",
          "text": [
            "[(3, 'a'), (2, 'b'), (1, 'c'), (4, 'd')]\n"
          ]
        }
      ]
    },
    {
      "cell_type": "code",
      "source": [
        "#9. Write a Python program that uses `map()` to convert a list of temperatures from Celsius to Fahrenheit.\n",
        "def celsius_to_fahrenheit(celsius):\n",
        "  \"\"\"\n",
        "  Converts Celsius temperature to Fahrenheit.\n",
        "  \"\"\"\n",
        "  return (celsius * 9/5) + 32\n",
        "\n",
        "# List of temperatures in Celsius\n",
        "celsius_temperatures = [0, 20, 30, 100]\n",
        "\n",
        "# Use map to convert the list to Fahrenheit\n",
        "fahrenheit_temperatures = list(map(celsius_to_fahrenheit, celsius_temperatures))\n",
        "\n",
        "# Print the results\n",
        "print(f\"Celsius temperatures: {celsius_temperatures}\")\n",
        "print(f\"Fahrenheit temperatures: {fahrenheit_temperatures}\")"
      ],
      "metadata": {
        "colab": {
          "base_uri": "https://localhost:8080/"
        },
        "id": "aE3XqhPWqUyh",
        "outputId": "f9ca816b-d7d5-4371-9200-3885e04af076"
      },
      "execution_count": 18,
      "outputs": [
        {
          "output_type": "stream",
          "name": "stdout",
          "text": [
            "Celsius temperatures: [0, 20, 30, 100]\n",
            "Fahrenheit temperatures: [32.0, 68.0, 86.0, 212.0]\n"
          ]
        }
      ]
    },
    {
      "cell_type": "code",
      "source": [
        "#10.Create a Python program that uses `filter()` to remove all the vowels from a given string.\n",
        "\n",
        "def remove_vowels(input_string):\n",
        "  \"\"\"\n",
        "  Removes all vowels from a string using filter().\n",
        "  \"\"\"\n",
        "  vowels = \"aeiouAEIOU\"\n",
        "  # Use filter to keep characters that are NOT in the vowels string\n",
        "  filtered_chars = filter(lambda char: char not in vowels, input_string)\n",
        "  # Join the filtered characters back into a string\n",
        "  return \"\".join(filtered_chars)\n",
        "\n",
        "# Example usage\n",
        "my_string = \"Hello, how are you?\"\n",
        "string_without_vowels = remove_vowels(my_string)\n",
        "print(f\"Original string: {my_string}\")\n",
        "print(f\"String without vowels: {string_without_vowels}\")\n"
      ],
      "metadata": {
        "colab": {
          "base_uri": "https://localhost:8080/"
        },
        "id": "rO-YdEfVqVDD",
        "outputId": "5d318cd9-75b7-45ed-efa0-9b466dff9ba8"
      },
      "execution_count": 17,
      "outputs": [
        {
          "output_type": "stream",
          "name": "stdout",
          "text": [
            "Original string: Hello, how are you?\n",
            "String without vowels: Hll, hw r y?\n"
          ]
        }
      ]
    },
    {
      "cell_type": "code",
      "source": [
        "#11. Imagine an accounting routine used in a book shop. It works on a list with sublists, which look like this:\n",
        "#Write a Python program, which returns a list with 2-tuples. Each tuple consists of the order number and the\n",
        "#product of the price per item and the quantity. The product should be increased by 10,- € if the value of the\n",
        "#order is smaller than 100,00 €.\n",
        "\n",
        "#Write a Python program using lambda and map.\n",
        "\n",
        "import pandas as pd\n",
        "from io import StringIO\n",
        "\n",
        "data = \"\"\"| Order Number | Book Title            | Author      | Quantity | Price per Item | Total Price |\n",
        "| ------------ | --------------------- | ----------- | -------- | -------------- | ----------- |\n",
        "| 34587        | Learning Python       | Mark Lutz   | 4        | 40.95          | 163.80      |\n",
        "| 98762        | Programming Python    | Mark Lutz   | 5        | 56.80          | 284.00      |\n",
        "| 77226        | Head First Python     | Paul Barry  | 3        | 32.95          | 98.85       |\n",
        "| 88112        | Einführung in Python3 | Bernd Klein | 3        | 24.99          | 74.97       |\"\"\"\n",
        "\n",
        "# Read the markdown table into a pandas DataFrame\n",
        "df = pd.read_csv(StringIO(data), sep='|', skipinitialspace=True)\n",
        "\n",
        "# Clean up the DataFrame (remove extra spaces and the separator lines)\n",
        "df.columns = df.columns.str.strip()\n",
        "df = df.iloc[1:].dropna(axis=1, how='all')\n",
        "df.columns = ['Order Number', 'Book Title', 'Author', 'Quantity', 'Price per Item', 'Total Price']\n",
        "\n",
        "# Convert relevant columns to numeric types\n",
        "df['Order Number'] = pd.to_numeric(df['Order Number'].str.strip())\n",
        "df['Quantity'] = pd.to_numeric(df['Quantity'].str.strip())\n",
        "df['Price per Item'] = pd.to_numeric(df['Price per Item'].str.strip())\n",
        "\n",
        "# Calculate the product of Quantity and Price per Item, apply the bonus, and create tuples\n",
        "result = list(map(lambda row: (row['Order Number'], round(row['Quantity'] * row['Price per Item'] + (10 if row['Quantity'] * row['Price per Item'] < 100 else 0), 2)), df.to_dict('records')))\n",
        "\n",
        "# Print the result\n",
        "print(result)"
      ],
      "metadata": {
        "colab": {
          "base_uri": "https://localhost:8080/"
        },
        "id": "f97RtooHqVbt",
        "outputId": "962b2201-7238-4549-f18b-1d599dc286da"
      },
      "execution_count": 20,
      "outputs": [
        {
          "output_type": "stream",
          "name": "stdout",
          "text": [
            "[(34587, 163.8), (98762, 284.0), (77226, 108.85), (88112, 84.97)]\n"
          ]
        }
      ]
    },
    {
      "cell_type": "markdown",
      "source": [],
      "metadata": {
        "id": "XcHp1fBg1VAU"
      }
    }
  ],
  "metadata": {
    "colab": {
      "name": "Welcome To Colab",
      "provenance": []
    },
    "kernelspec": {
      "display_name": "Python 3",
      "name": "python3"
    }
  },
  "nbformat": 4,
  "nbformat_minor": 0
}